{
  "cells": [
    {
      "cell_type": "markdown",
      "metadata": {
        "id": "hedqRWdCXeoF"
      },
      "source": [
        "<a href=\"https://colab.research.google.com/github/hejnal/py-study-pandas/blob/main/notebooks/PyStudy_Group_13_Exercise_1_Pandas_ipynb_%5BMAKE_A_COPY%5D.ipynb\" target=\"_parent\"><img src=\"https://colab.research.google.com/assets/colab-badge.svg\" alt=\"Open In Colab\"/></a>"
      ]
    },
    {
      "cell_type": "markdown",
      "metadata": {
        "id": "NiLBt_cuazLl"
      },
      "source": [
        "# Examples"
      ]
    },
    {
      "cell_type": "markdown",
      "metadata": {
        "id": "6brwf0w3YDPH"
      },
      "source": [
        "## Imports"
      ]
    },
    {
      "cell_type": "code",
      "execution_count": 1,
      "metadata": {
        "id": "ucECCuyssZcn"
      },
      "outputs": [],
      "source": [
        "# Imports\n",
        "import numpy as np\n",
        "import pandas as pd"
      ]
    },
    {
      "cell_type": "markdown",
      "metadata": {
        "id": "eyC62A0oYCqY"
      },
      "source": [
        "## Dataframe creation"
      ]
    },
    {
      "cell_type": "code",
      "execution_count": null,
      "metadata": {
        "id": "iEH1jpV9sjn7"
      },
      "outputs": [],
      "source": [
        "# series\n",
        "s = pd.Series([1, 3, 5, np.nan, 6, 8, 'txt'])\n",
        "print(s)\n",
        "\n",
        "# dataframe\n",
        "dates= pd.date_range(start='2023-01-01', periods=6)\n",
        "print(dates)\n",
        "\n",
        "df = pd.DataFrame(np.random.randn(6, 5), index=dates, columns=list('ABCDE'))\n",
        "print(df)\n",
        "\n",
        "df2 = pd.DataFrame(\n",
        "    {\n",
        "        \"A\": 1.0,\n",
        "        \"B\": pd.Timestamp('2023-01-01'),\n",
        "        \"C\": pd.Series(1, index=list(range(4)), dtype='float32'),\n",
        "        \"D\": np.array([3] * 4, dtype='int32'),\n",
        "        \"E\": pd.Categorical([\"test\", \"train\", \"val\", \"test\"]),\n",
        "        \"F\": \"foo\"\n",
        "   }\n",
        ")\n",
        "print(df2)\n",
        "print(df2.dtypes)"
      ]
    },
    {
      "cell_type": "markdown",
      "metadata": {
        "id": "C6Y1zZ09Ytm1"
      },
      "source": [
        "## Basic DataFrames Operations"
      ]
    },
    {
      "cell_type": "markdown",
      "metadata": {
        "id": "x8_ARs_3YRR5"
      },
      "source": [
        "Inspect dataframes"
      ]
    },
    {
      "cell_type": "code",
      "execution_count": null,
      "metadata": {
        "id": "k17PmHTmvku8"
      },
      "outputs": [],
      "source": [
        "print(df2.B[3])\n",
        "df2.head()"
      ]
    },
    {
      "cell_type": "markdown",
      "metadata": {
        "id": "Kku8Wy2vYnK7"
      },
      "source": [
        "Sort Dataframes"
      ]
    },
    {
      "cell_type": "code",
      "execution_count": null,
      "metadata": {
        "cellView": "form",
        "id": "A3EaSr7av9WF"
      },
      "outputs": [],
      "source": [
        "df2.columns\n",
        "df2.to_numpy()\n",
        "\n",
        "df2.describe()\n",
        "df2.T\n",
        "\n",
        "df2.sort_index(axis=1, ascending=True)\n",
        "df2.sort_values(by='E', ascending=True)\n",
        "\n",
        "\n",
        "\"\"\"\n",
        "While standard Python / NumPy expressions for selecting and setting are intuitive and come in handy for interactive work, for production code, we recommend the optimized pandas data access methods, DataFrame.at(), DataFrame.iat(), DataFrame.loc() and DataFrame.iloc().\n",
        "\"\"\""
      ]
    },
    {
      "cell_type": "markdown",
      "metadata": {
        "id": "bIcefUXdYxw1"
      },
      "source": [
        "Access to the dataframe with different methods (loc, iloc, at, etc)"
      ]
    },
    {
      "cell_type": "code",
      "execution_count": null,
      "metadata": {
        "id": "v0FOFTP_xmKH"
      },
      "outputs": [],
      "source": [
        "df[\"A\"]\n",
        "df.A\n",
        "\n",
        "df[:3]\n",
        "\n",
        "df['2023-01-01':'2023-01-02']\n",
        "\n",
        "df.loc[dates[0]]\n",
        "\n",
        "df.loc[:, [\"A\", \"B\"]]\n",
        "\n",
        "df.loc[\"2023-01-01\":\"2023-01-02\", [\"A\", \"B\"]]\n",
        "df.loc[dates[0], \"A\"]\n",
        "df.at[dates[0], \"A\"]\n",
        "\n",
        "\n",
        "# Selection by position\n",
        "df.iloc[3]\n",
        "# Integer slices acts similar to NumPy/Python:\n",
        "df.iloc[3:5, 0:2]\n",
        "\n",
        "df.iloc[[0, 2, 4], 0]\n",
        "df.iloc[[0, 2, 4], :]\n",
        "df.iloc[:, 1:3]\n",
        "df.iloc[1, 1]\n",
        "df[df[\"A\"] > 0]\n",
        "df[df > 0]\n",
        "\n",
        "df2 = df.copy()\n",
        "df2[\"E\"] = [\"one\", \"two\", \"three\", \"four\", \"three\", \"six\"]\n",
        "df2[\"E\"].isin([\"two\", \"three\"])\n"
      ]
    },
    {
      "cell_type": "markdown",
      "metadata": {
        "id": "7ad1CnI6Y-t-"
      },
      "source": [
        "Setting Values"
      ]
    },
    {
      "cell_type": "code",
      "execution_count": null,
      "metadata": {
        "id": "PCnfaqu02hMS"
      },
      "outputs": [],
      "source": [
        "s1 = pd.Series([1, 2, 3, 4, 5, 6, 7, 8, 9], index=pd.date_range(start='2023-01-01', periods=9))\n",
        "\n",
        "df[\"F\"] = s1\n",
        "df.at[dates[0], \"A\"] = 0\n",
        "df.iat[0, 1]= 0\n",
        "df.loc[:, \"D\"] = np.array([5] * len(df))\n",
        "df.loc[:, \"D\"]\n",
        "\n"
      ]
    },
    {
      "cell_type": "markdown",
      "metadata": {
        "id": "2sp8Os8bZHYX"
      },
      "source": [
        "Missing Data"
      ]
    },
    {
      "cell_type": "code",
      "execution_count": null,
      "metadata": {
        "id": "P5YWiyMF9vb8"
      },
      "outputs": [],
      "source": [
        "# Missing data\n",
        "df.dropna(how=\"any\")\n",
        "\n",
        "pd.isna(df)\n",
        "\n",
        "# calculate mean for each column\n",
        "df.mean(axis=0) # or df.mean()\n",
        "\n",
        "# calculate mean for each row\n",
        "df.mean(axis=1)\n"
      ]
    },
    {
      "cell_type": "markdown",
      "metadata": {
        "id": "w9UacKCWZLrE"
      },
      "source": [
        "## Aggregation"
      ]
    },
    {
      "cell_type": "code",
      "execution_count": null,
      "metadata": {
        "id": "cuh6Zz88CPH2"
      },
      "outputs": [],
      "source": [
        "df.agg(lambda x: np.mean(x) * 5.6)"
      ]
    },
    {
      "cell_type": "code",
      "execution_count": null,
      "metadata": {
        "id": "G2zIM3qQZTpf"
      },
      "outputs": [],
      "source": [
        "df.transform(lambda x: x * 100)"
      ]
    },
    {
      "cell_type": "code",
      "execution_count": null,
      "metadata": {
        "id": "Rae7nzL5C-c8"
      },
      "outputs": [],
      "source": [
        "s = pd.Series(np.random.randint(0, 7, size=10))\n",
        "s.value_counts().sort_index()"
      ]
    },
    {
      "cell_type": "markdown",
      "metadata": {
        "id": "ecEc245ZZitG"
      },
      "source": [
        "## Joins (Merges)"
      ]
    },
    {
      "cell_type": "code",
      "execution_count": null,
      "metadata": {
        "id": "caazEpn9Dnxy"
      },
      "outputs": [],
      "source": [
        "left = pd.DataFrame({\"key\": [\"foo\", \"foo\"], \"lval\": [1, 2]})\n",
        "right = pd.DataFrame({\"key\": [\"foo\", \"foo\"], \"rval\": [4, 5]})"
      ]
    },
    {
      "cell_type": "code",
      "execution_count": null,
      "metadata": {
        "id": "gabGPdiADrxB"
      },
      "outputs": [],
      "source": [
        "pd.merge(left, right, on=\"key\", how=\"outer\")"
      ]
    },
    {
      "cell_type": "markdown",
      "metadata": {
        "id": "nUYQTmz1ZnTZ"
      },
      "source": [
        "## Grouping"
      ]
    },
    {
      "cell_type": "code",
      "execution_count": null,
      "metadata": {
        "id": "7pNTxmOtD_f-"
      },
      "outputs": [],
      "source": [
        "df = pd.DataFrame(\n",
        "    {\n",
        "        \"A\": [\"foo\", \"bar\", \"foo\", \"bar\", \"foo\", \"bar\", \"foo\", \"foo\"],\n",
        "        \"B\": [\"one\", \"one\", \"two\", \"three\", \"two\", \"two\", \"one\", \"three\"],\n",
        "        \"C\": np.random.randn(8),\n",
        "        \"D\": np.random.randn(8),\n",
        "    }\n",
        ")\n",
        "\n",
        "df"
      ]
    },
    {
      "cell_type": "code",
      "execution_count": null,
      "metadata": {
        "id": "MDCJ6VKtEC4Y"
      },
      "outputs": [],
      "source": [
        "df.groupby(\"A\")[[\"C\", \"D\"]].sum()"
      ]
    },
    {
      "cell_type": "code",
      "execution_count": null,
      "metadata": {
        "id": "SGsUiqdrETgk"
      },
      "outputs": [],
      "source": [
        "df.groupby([\"A\", \"B\"]).sum()"
      ]
    },
    {
      "cell_type": "markdown",
      "metadata": {
        "id": "Bq4DQj8PaEfZ"
      },
      "source": [
        "## Timeseries"
      ]
    },
    {
      "cell_type": "code",
      "execution_count": null,
      "metadata": {
        "id": "r5KPz2LiEb2Q"
      },
      "outputs": [],
      "source": [
        "rng = pd.date_range(\"1/1/2012\", periods=1000, freq=\"s\")\n",
        "ts = pd.Series(np.random.randn(len(rng)), rng)\n",
        "ts_utc = ts.tz_localize(\"UTC\")\n",
        "ts_utc.resample(\"5Min\").sum()\n"
      ]
    },
    {
      "cell_type": "markdown",
      "metadata": {
        "id": "Aq0o17g7aLxL"
      },
      "source": [
        "## Categorical"
      ]
    },
    {
      "cell_type": "code",
      "execution_count": null,
      "metadata": {
        "id": "YcbwzFPfFLs4"
      },
      "outputs": [],
      "source": [
        "df = pd.DataFrame(\n",
        "    {\"id\": [1, 2, 3, 4, 5, 6], \"raw_grade\": [\"a\", \"b\", \"b\", \"a\", \"a\", \"e\"]}\n",
        ")\n",
        "df"
      ]
    },
    {
      "cell_type": "code",
      "execution_count": null,
      "metadata": {
        "id": "smzOoEgVFUxT"
      },
      "outputs": [],
      "source": [
        "df[\"grade\"] = df[\"raw_grade\"].astype(\"category\")\n",
        "new_categories = [\"very good\", \"good\", \"very bad\"]\n",
        "\n",
        "df[\"grade\"] = df[\"grade\"].cat.rename_categories(new_categories)\n",
        "df"
      ]
    },
    {
      "cell_type": "markdown",
      "metadata": {
        "id": "b5iBml3FaUoo"
      },
      "source": [
        "## Plotting"
      ]
    },
    {
      "cell_type": "code",
      "execution_count": null,
      "metadata": {
        "id": "4gMLiU8MFn8Q"
      },
      "outputs": [],
      "source": [
        "import matplotlib.pyplot as plt\n",
        "plt.close(\"all\")"
      ]
    },
    {
      "cell_type": "code",
      "execution_count": null,
      "metadata": {
        "id": "hphggpvOFzSn"
      },
      "outputs": [],
      "source": [
        "ts = pd.Series(np.random.randn(1000), index=pd.date_range(\"1/1/2000\", periods=1000))\n",
        "\n",
        "ts = ts.cumsum()\n",
        "\n",
        "ts.plot();\n"
      ]
    },
    {
      "cell_type": "code",
      "execution_count": null,
      "metadata": {
        "id": "3pik3WWAKBQI"
      },
      "outputs": [],
      "source": [
        "df = pd.DataFrame(\n",
        "    np.random.randn(1000, 4), index=ts.index, columns=[\"A\", \"B\", \"C\", \"D\"]\n",
        ")\n",
        "\n",
        "df = df.cumsum()\n",
        "\n",
        "plt.figure();\n",
        "\n",
        "df.plot();\n",
        "\n",
        "plt.legend(loc='best');"
      ]
    },
    {
      "cell_type": "markdown",
      "metadata": {
        "id": "zJ-x-DP2a9GG"
      },
      "source": [
        "# Exercises"
      ]
    },
    {
      "cell_type": "markdown",
      "metadata": {
        "id": "c1vfVjfxbuXA"
      },
      "source": [
        "### Exercise 1"
      ]
    },
    {
      "cell_type": "code",
      "execution_count": null,
      "metadata": {
        "id": "4t4kOXHXbr1N"
      },
      "outputs": [],
      "source": [
        "# Create a DataFrame with the following data:\n",
        "data = {'Name': ['Alice', 'Bob', 'Charlie'],\n",
        "        'Age': [25, 30, 28],\n",
        "        'City': ['New York', 'Los Angeles', 'Chicago']}\n",
        "\n",
        "# Display the first 2 rows of the DataFrame. [TODO]\n",
        "# Display the 'Name' and 'City' columns. [TODO]"
      ]
    },
    {
      "cell_type": "code",
      "execution_count": null,
      "metadata": {
        "cellView": "form",
        "id": "cK1LFclOb2wp"
      },
      "outputs": [],
      "source": [
        "# @title Solution\n",
        "import pandas as pd\n",
        "\n",
        "df = pd.DataFrame(data)\n",
        "\n",
        "# Display the first 2 rows\n",
        "print(df.head(2))\n",
        "\n",
        "# Display the 'Name' and 'City' columns\n",
        "print(df[['Name', 'City']])"
      ]
    },
    {
      "cell_type": "markdown",
      "metadata": {
        "id": "e-z2j-I7cGxK"
      },
      "source": [
        "### Exercise 2"
      ]
    },
    {
      "cell_type": "code",
      "execution_count": null,
      "metadata": {
        "id": "nupKCqd_cL4O"
      },
      "outputs": [],
      "source": [
        "# Create a DataFrame with the following data:\n",
        "data = {'Item': ['Apple', 'Banana', 'Orange', 'Apple', 'Banana'],\n",
        "        'Price': [1.0, 0.5, 0.75, 1.2, 0.6]}\n",
        "\n",
        "# Calculate the mean price of each item. [TODO]"
      ]
    },
    {
      "cell_type": "code",
      "execution_count": null,
      "metadata": {
        "cellView": "form",
        "id": "5wvOOj17cVh8"
      },
      "outputs": [],
      "source": [
        "# @title Solution\n",
        "import pandas as pd\n",
        "\n",
        "# Create the DataFrame\n",
        "df = pd.DataFrame(data)\n",
        "\n",
        "# Calculate the mean price of each item\n",
        "print(df.groupby('Item').mean())"
      ]
    },
    {
      "cell_type": "markdown",
      "metadata": {
        "id": "UScgbYBLcbVB"
      },
      "source": [
        "### Exercise 3"
      ]
    },
    {
      "cell_type": "code",
      "execution_count": null,
      "metadata": {
        "id": "soc96J2tcfDj"
      },
      "outputs": [],
      "source": [
        "# Create two DataFrames with the following data:\n",
        "data1 = {'ID': [1, 2, 3], 'Name': ['Alice', 'Bob', 'Charlie']}\n",
        "data2 = {'ID': [2, 3, 4], 'Score': [85, 92, 78]}\n",
        "\n",
        "# Join the two DataFrames on the ID column (using join) [TODO]\n",
        "# Join the two DataFrames on the ID column (using merge) [TODO]"
      ]
    },
    {
      "cell_type": "code",
      "execution_count": null,
      "metadata": {
        "cellView": "form",
        "id": "lgVw6QdkclY-"
      },
      "outputs": [],
      "source": [
        "# @title Solution\n",
        "import pandas as pd\n",
        "\n",
        "df1 = pd.DataFrame(data1)\n",
        "df2 = pd.DataFrame(data2)\n",
        "\n",
        "# Join the two DataFrames on the `ID` column (without setting the index to ID)\n",
        "print(df1.join(df2, lsuffix='_caller', rsuffix='_other'))\n",
        "print(df1.merge(df2, left_on=\"ID\", right_on=\"ID\", suffixes=['_caller', '_other'], how=\"left\"))\n",
        "\n",
        "# Set 'ID' as the index for both DataFrames\n",
        "df1 = df1.set_index('ID')\n",
        "df2 = df2.set_index('ID')\n",
        "\n",
        "# Join the two DataFrames on the `ID` column\n",
        "print(df1.join(df2, lsuffix='_caller', rsuffix='_other'))\n",
        "print(df1.merge(df2, left_on=\"ID\", right_on=\"ID\", suffixes=['_caller', '_other'], how=\"left\"))"
      ]
    },
    {
      "cell_type": "markdown",
      "metadata": {
        "id": "rkRgvG6Te37M"
      },
      "source": [
        "### Exercise 4"
      ]
    },
    {
      "cell_type": "code",
      "execution_count": null,
      "metadata": {
        "id": "MaizKaKze7uq"
      },
      "outputs": [],
      "source": [
        "# Create a DataFrame with the following data:\n",
        "data = {'Name': ['Alice', 'Bob', 'Charlie', 'David'],\n",
        "        'Age': [25, 30, 28, 22],\n",
        "        'City': ['New York', 'Los Angeles', 'Chicago', 'Houston'],\n",
        "        'Salary': [60000, 75000, 55000, 48000]}\n",
        "\n",
        "df = pd.DataFrame(data)\n",
        "\n",
        "# Filter the DataFrame to include only employees who are older than 25 and have a salary greater than 50000. [TODO]"
      ]
    },
    {
      "cell_type": "code",
      "execution_count": null,
      "metadata": {
        "cellView": "form",
        "id": "RaYklV5yfYN4"
      },
      "outputs": [],
      "source": [
        "# @title Solution\n",
        "\n",
        "# Filter the DataFrame\n",
        "filtered_df = df[(df['Age'] > 25) & (df['Salary'] > 50000)]\n",
        "print(filtered_df)"
      ]
    },
    {
      "cell_type": "markdown",
      "metadata": {
        "id": "VRiXaiG1ft7F"
      },
      "source": [
        "### Exercise 5"
      ]
    },
    {
      "cell_type": "code",
      "execution_count": null,
      "metadata": {
        "id": "XFra60h3fi-w"
      },
      "outputs": [],
      "source": [
        "# Create a DataFrame with the following data:\n",
        "data = {'Value1': [10, 20, 30],\n",
        "        'Value2': [40, 50, 60]}\n",
        "\n",
        "df = pd.DataFrame(data)\n",
        "\n",
        "# Use the apply() method to calculate the product of Value1 and Value2 for each row, and store the result in a new column called Product. [TODO]"
      ]
    },
    {
      "cell_type": "code",
      "execution_count": null,
      "metadata": {
        "cellView": "form",
        "id": "a9W-4fVhf1Ti"
      },
      "outputs": [],
      "source": [
        "# @title Solution\n",
        "\n",
        "# Calculate the product using apply()\n",
        "df['Product'] = df.apply(lambda row: row['Value1'] * row['Value2'], axis=1)\n",
        "print(df)"
      ]
    },
    {
      "cell_type": "markdown",
      "metadata": {
        "id": "2OxykRxAhIqi"
      },
      "source": [
        "### Exercise 6"
      ]
    },
    {
      "cell_type": "code",
      "execution_count": null,
      "metadata": {
        "id": "_2o9v9A5hHcV"
      },
      "outputs": [],
      "source": [
        "# Create two DataFrames with the following data:\n",
        "\n",
        "employee_data = {'EmployeeID': [1, 2, 3, 4, 5],\n",
        "                'Name': ['Alice', 'Bob', 'Charlie', 'David', 'Emily'],\n",
        "                'Department': ['Sales', 'Marketing', 'Sales', 'Finance', 'IT'],\n",
        "                'Salary': [60000, 75000, 62000, 80000, 70000],\n",
        "                'Age': [25, 30, 28, 35, 28]}\n",
        "\n",
        "project_data = {'ProjectID': [101, 102, 103, 104],\n",
        "                'ProjectName': ['Alpha', 'Beta', 'Gamma', 'Delta'],\n",
        "                'Department': ['Sales', 'Marketing', 'Sales', 'Finance'],\n",
        "                'Budget': [100000, 150000, 120000, 200000]}\n",
        "\n",
        "# Merge the two DataFrames on the Department column, keeping all rows from the employee_data DataFrame. [TODO]\n",
        "\n",
        "# Calculate the average Salary for each Department in the merged DataFrame. [TODO]\n",
        "\n",
        "# Filter the merged DataFrame to include only employees who are older than the average age of employees in their respective departments. [TODO]\n",
        "\n",
        "# Group the filtered DataFrame by ProjectName and calculate the sum of Salary and Budget for each project. [TODO]"
      ]
    },
    {
      "cell_type": "code",
      "execution_count": null,
      "metadata": {
        "cellView": "form",
        "id": "O9m4cR1RhsTU"
      },
      "outputs": [],
      "source": [
        "# @title Solution\n",
        "import pandas as pd\n",
        "\n",
        "# Create the DataFrames\n",
        "employee_data = {'EmployeeID': [1, 2, 3, 4, 5],\n",
        "                'Name': ['Alice', 'Bob', 'Charlie', 'David', 'Emily'],\n",
        "                'Department': ['Sales', 'Marketing', 'Sales', 'Finance', 'IT'],\n",
        "                'Salary': [60000, 75000, 62000, 80000, 70000],\n",
        "                'Age': [25, 30, 28, 35, 28]}\n",
        "project_data = {'ProjectID': [101, 102, 103, 104],\n",
        "                'ProjectName': ['Alpha', 'Beta', 'Gamma', 'Delta'],\n",
        "                'Department': ['Sales', 'Marketing', 'Sales', 'Finance'],\n",
        "                'Budget': [100000, 150000, 120000, 200000]}\n",
        "employee_df = pd.DataFrame(employee_data)\n",
        "project_df = pd.DataFrame(project_data)\n",
        "\n",
        "# Merge the DataFrames\n",
        "merged_df = pd.merge(employee_df, project_df, on='Department', how='left')\n",
        "\n",
        "# Calculate the average salary for each department\n",
        "avg_age = merged_df.groupby('Department')['Age'].mean()\n",
        "\n",
        "# Filter employees older than the average age in their department\n",
        "filtered_df = merged_df[merged_df.apply(lambda row: row['Age'] > avg_age[row['Department']], axis=1)]\n",
        "\n",
        "# Group by ProjectName and calculate the sum of Salary and Budget\n",
        "grouped_df = filtered_df.groupby('ProjectName').agg({'Salary': 'sum', 'Budget': 'sum'})\n",
        "\n",
        "# Display the result\n",
        "print(grouped_df.head())"
      ]
    }
  ],
  "metadata": {
    "colab": {
      "provenance": [],
      "toc_visible": true
    },
    "kernelspec": {
      "display_name": "ml_course",
      "language": "python",
      "name": "python3"
    },
    "language_info": {
      "codemirror_mode": {
        "name": "ipython",
        "version": 3
      },
      "file_extension": ".py",
      "mimetype": "text/x-python",
      "name": "python",
      "nbconvert_exporter": "python",
      "pygments_lexer": "ipython3",
      "version": "3.11.0"
    }
  },
  "nbformat": 4,
  "nbformat_minor": 0
}
