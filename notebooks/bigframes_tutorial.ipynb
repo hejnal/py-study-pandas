{
  "cells": [
    {
      "cell_type": "code",
      "execution_count": null,
      "metadata": {
        "colab": {
          "base_uri": "https://localhost:8080/"
        },
        "id": "9KcRZdcePDvf",
        "outputId": "bcd42c7f-79de-4f3c-ef12-842f8beb407c"
      },
      "outputs": [
        {
          "name": "stdout",
          "output_type": "stream",
          "text": [
            "   ━━━━━━━━━━━━━━━━━━━━━━━━━━━━━━━━━━━━━━━━ 1.6/1.6 MB 8.1 MB/s eta 0:00:00\n"
          ]
        }
      ],
      "source": [
        "%%bash\n",
        "pip install -q bigframes"
      ]
    },
    {
      "cell_type": "code",
      "execution_count": null,
      "metadata": {
        "id": "BHHrJ_FDRabc"
      },
      "outputs": [],
      "source": [
        "%load_ext google.cloud.bigquery"
      ]
    },
    {
      "cell_type": "code",
      "execution_count": null,
      "metadata": {
        "id": "ucECCuyssZcn"
      },
      "outputs": [],
      "source": [
        "import bigframes.pandas as bpd\n",
        "\n",
        "PROJECT_ID = \"<compute-project-id>\"  # @param {type:\"string\"}\n",
        "REGION = \"EU\"  # @param {type:\"string\"}\n",
        "MAX_ROWS = 20000000\n",
        "\n",
        "# Set BigQuery DataFrames options\n",
        "# Note: The project option is not required in all environments.\n",
        "# On BigQuery Studio, the project ID is automatically detected.\n",
        "bpd.options.bigquery.project = PROJECT_ID\n",
        "\n",
        "# Note: The location option is not required.\n",
        "# It defaults to the location of the first table or query\n",
        "# passed to read_gbq(). For APIs where a location can't be\n",
        "# auto-detected, the location defaults to the \"US\" location.\n",
        "bpd.options.bigquery.location = REGION"
      ]
    },
    {
      "cell_type": "code",
      "execution_count": null,
      "metadata": {
        "id": "K2xyOsmie84p"
      },
      "outputs": [],
      "source": [
        "# Importing the matplotlib library\n",
        "import matplotlib.pyplot as plt"
      ]
    },
    {
      "cell_type": "code",
      "execution_count": null,
      "metadata": {
        "id": "uJPzOkPcPUwC"
      },
      "outputs": [],
      "source": [
        "from google.colab import auth\n",
        "auth.authenticate_user()"
      ]
    },
    {
      "cell_type": "code",
      "execution_count": null,
      "metadata": {
        "id": "l1TBa8lnaw0B"
      },
      "outputs": [],
      "source": [
        "params = {\n",
        "    \"max_rows\": MAX_ROWS\n",
        "}"
      ]
    },
    {
      "cell_type": "markdown",
      "metadata": {
        "id": "gw6vEdV_e-vc"
      },
      "source": [
        "# Scenario 1: Analyze peak usage hours: Compare 3 different mechanisms"
      ]
    },
    {
      "cell_type": "markdown",
      "metadata": {
        "id": "IjGHozwlfGNl"
      },
      "source": [
        "## Pandas DataFrame"
      ]
    },
    {
      "cell_type": "code",
      "execution_count": null,
      "metadata": {
        "colab": {
          "base_uri": "https://localhost:8080/",
          "height": 116,
          "referenced_widgets": [
            "02cda504338941039f901cee4ff004c7",
            "932c474b7038402ca37f4b12b3ab40d5",
            "3b25bfb5ab4940bf9b5ae685c85f33a5",
            "3e7bd5d33ee74d3cb353f4160855e372",
            "11b7012e74fb4e939c5706fea6288ee4",
            "2f00a93a21ac4b8d915ef8aa37d70e9b",
            "30a50f9bb98e40e7803dfc7ce4ac27f5",
            "90d50fe43f7943c68a909b3e0bfe63c3",
            "ac191ced67404163a39386cce3ba3943",
            "91b20d18d7524292a892d2da23fcb2a9",
            "988a44e77e064fe1ab212a99409f472a",
            "7acd758e96f2406bb489d78373db43b8",
            "9c6ef7dab6764a2f923c5ca19fe3198d",
            "b02d52b4782a4df2b6075eceadc30d96",
            "d390f62de4684e4aa4b9955409ac25f9",
            "3fb1549816c749eca011b588ca8fb08f",
            "6da379b2e66a475faae59208c832eb75",
            "4d5f091105eb4b1da91b1056a81ffe92",
            "5fe8305f0fec40659e90a9c5d59f3adf",
            "6280ef9279294f00a95e53c08a10d82b",
            "fba272163d61442eab0ae19925a5cb84",
            "a0121a0338cb484aa7ab74b577bded5c"
          ]
        },
        "id": "NA4qDQQ2PW25",
        "outputId": "4d48f8ed-d054-4b77-98c7-07671cd14f92"
      },
      "outputs": [
        {
          "data": {
            "application/vnd.jupyter.widget-view+json": {
              "model_id": "02cda504338941039f901cee4ff004c7",
              "version_major": 2,
              "version_minor": 0
            },
            "text/plain": [
              "Query is running:   0%|          |"
            ]
          },
          "metadata": {},
          "output_type": "display_data"
        },
        {
          "data": {
            "application/vnd.jupyter.widget-view+json": {
              "model_id": "7acd758e96f2406bb489d78373db43b8",
              "version_major": 2,
              "version_minor": 0
            },
            "text/plain": [
              "Downloading:   0%|          |"
            ]
          },
          "metadata": {},
          "output_type": "display_data"
        },
        {
          "name": "stdout",
          "output_type": "stream",
          "text": [
            "CPU times: user 19.4 s, sys: 15.7 s, total: 35 s\n",
            "Wall time: 40.6 s\n"
          ]
        }
      ],
      "source": [
        "%%time\n",
        "%%bigquery cycle_hire_df --params $params --project $PROJECT_ID\n",
        "SELECT\n",
        "  *\n",
        "FROM\n",
        "    `bigquery-public-data`.london_bicycles.cycle_hire\n",
        "LIMIT @max_rows"
      ]
    },
    {
      "cell_type": "code",
      "execution_count": null,
      "metadata": {
        "colab": {
          "base_uri": "https://localhost:8080/"
        },
        "id": "SI3WGN0LW7jk",
        "outputId": "8403c4ae-1908-4667-a7ad-2d0df66576c9"
      },
      "outputs": [
        {
          "name": "stdout",
          "output_type": "stream",
          "text": [
            "CPU times: user 1.62 s, sys: 1.01 s, total: 2.63 s\n",
            "Wall time: 2.11 s\n"
          ]
        },
        {
          "data": {
            "text/plain": [
              "Text(0.5, 1.0, 'Number of Bicycle Hires by Hour of the Day')"
            ]
          },
          "execution_count": 9,
          "metadata": {},
          "output_type": "execute_result"
        },
        {
          "data": {
            "image/png": "[encoded data removed]",
            "text/plain": [
              "<Figure size 640x480 with 1 Axes>"
            ]
          },
          "metadata": {},
          "output_type": "display_data"
        }
      ],
      "source": [
        "%%time\n",
        "cycle_hire_df['start_hour'] = cycle_hire_df['start_date'].dt.hour\n",
        "\n",
        "hourly_hires = cycle_hire_df.groupby('start_hour').size()\n",
        "\n",
        "plt.bar(hourly_hires.index, hourly_hires.values)\n",
        "plt.xlabel('Hour of the Day')\n",
        "plt.ylabel('Number of Hires')\n",
        "plt.title('Number of Bicycle Hires by Hour of the Day')"
      ]
    },
    {
      "cell_type": "markdown",
      "metadata": {
        "id": "Ii5Aj2tdfMYk"
      },
      "source": [
        "## Bigquery DataFrame"
      ]
    },
    {
      "cell_type": "code",
      "execution_count": null,
      "metadata": {
        "colab": {
          "base_uri": "https://localhost:8080/",
          "height": 69
        },
        "id": "eHvI7auIVRvy",
        "outputId": "bfa1d1f0-3392-438d-e543-0100c609458d"
      },
      "outputs": [
        {
          "data": {
            "text/html": [
              "Query job c000c997-cdb4-4fde-8c3e-ed579c07e6e8 is DONE. 10.3 GB processed. <a target=\"_blank\" href=\"https://console.cloud.google.com/bigquery?project=whejna-caixa-dataops&j=bq:EU:c000c997-cdb4-4fde-8c3e-ed579c07e6e8&page=queryresults\">Open Job</a>"
            ],
            "text/plain": [
              "<IPython.core.display.HTML object>"
            ]
          },
          "metadata": {},
          "output_type": "display_data"
        },
        {
          "name": "stdout",
          "output_type": "stream",
          "text": [
            "CPU times: user 350 ms, sys: 60.3 ms, total: 410 ms\n",
            "Wall time: 35.7 s\n"
          ]
        }
      ],
      "source": [
        "%%time\n",
        "# Create a BigFrame from the cycle_hire table\n",
        "cycle_hire_bf = bpd.read_gbq(\n",
        "    \"bigquery-public-data.london_bicycles.cycle_hire\", max_results=MAX_ROWS, use_cache=False\n",
        ")"
      ]
    },
    {
      "cell_type": "code",
      "execution_count": null,
      "metadata": {
        "colab": {
          "base_uri": "https://localhost:8080/",
          "height": 611
        },
        "id": "aZS76KGbV6lG",
        "outputId": "36c981d8-cabb-465a-c17a-55fca57a0de8"
      },
      "outputs": [
        {
          "data": {
            "text/html": [
              "Query job 69c4798c-098f-4b1c-96b2-9d060baeea1a is DONE. 160.0 MB processed. <a target=\"_blank\" href=\"https://console.cloud.google.com/bigquery?project=whejna-caixa-dataops&j=bq:EU:69c4798c-098f-4b1c-96b2-9d060baeea1a&page=queryresults\">Open Job</a>"
            ],
            "text/plain": [
              "<IPython.core.display.HTML object>"
            ]
          },
          "metadata": {},
          "output_type": "display_data"
        },
        {
          "data": {
            "text/html": [
              "Query job 06c573d3-90da-484b-9a9b-46eb6144a7a5 is DONE. 160.0 MB processed. <a target=\"_blank\" href=\"https://console.cloud.google.com/bigquery?project=whejna-caixa-dataops&j=bq:EU:06c573d3-90da-484b-9a9b-46eb6144a7a5&page=queryresults\">Open Job</a>"
            ],
            "text/plain": [
              "<IPython.core.display.HTML object>"
            ]
          },
          "metadata": {},
          "output_type": "display_data"
        },
        {
          "data": {
            "text/html": [
              "Query job 07b2564e-8156-4c0f-a72a-593b0ebae67f is DONE. 160.0 MB processed. <a target=\"_blank\" href=\"https://console.cloud.google.com/bigquery?project=whejna-caixa-dataops&j=bq:EU:07b2564e-8156-4c0f-a72a-593b0ebae67f&page=queryresults\">Open Job</a>"
            ],
            "text/plain": [
              "<IPython.core.display.HTML object>"
            ]
          },
          "metadata": {},
          "output_type": "display_data"
        },
        {
          "data": {
            "text/html": [
              "Query job d5584a2f-4b72-4251-992d-659d8b2f8f37 is DONE. 160.0 MB processed. <a target=\"_blank\" href=\"https://console.cloud.google.com/bigquery?project=whejna-caixa-dataops&j=bq:EU:d5584a2f-4b72-4251-992d-659d8b2f8f37&page=queryresults\">Open Job</a>"
            ],
            "text/plain": [
              "<IPython.core.display.HTML object>"
            ]
          },
          "metadata": {},
          "output_type": "display_data"
        },
        {
          "data": {
            "text/html": [
              "Query job ca2ca678-ebca-4a70-92d7-c2cd144879e1 is DONE. 160.0 MB processed. <a target=\"_blank\" href=\"https://console.cloud.google.com/bigquery?project=whejna-caixa-dataops&j=bq:EU:ca2ca678-ebca-4a70-92d7-c2cd144879e1&page=queryresults\">Open Job</a>"
            ],
            "text/plain": [
              "<IPython.core.display.HTML object>"
            ]
          },
          "metadata": {},
          "output_type": "display_data"
        },
        {
          "name": "stdout",
          "output_type": "stream",
          "text": [
            "CPU times: user 1.02 s, sys: 31.5 ms, total: 1.05 s\n",
            "Wall time: 18.7 s\n"
          ]
        },
        {
          "data": {
            "text/plain": [
              "Text(0.5, 1.0, 'Number of Bicycle Hires by Hour of the Day')"
            ]
          },
          "execution_count": 11,
          "metadata": {},
          "output_type": "execute_result"
        },
        {
          "data": {
            "image/png": "[encoded data removed]",
            "text/plain": [
              "<Figure size 640x480 with 1 Axes>"
            ]
          },
          "metadata": {},
          "output_type": "display_data"
        }
      ],
      "source": [
        "%%time\n",
        "cycle_hire_bf['start_hour'] = cycle_hire_bf['start_date'].dt.hour\n",
        "\n",
        "hourly_hires = cycle_hire_bf.groupby('start_hour').size()\n",
        "\n",
        "plt.bar(hourly_hires.index, hourly_hires.values)\n",
        "plt.xlabel('Hour of the Day')\n",
        "plt.ylabel('Number of Hires')\n",
        "plt.title('Number of Bicycle Hires by Hour of the Day')"
      ]
    },
    {
      "cell_type": "markdown",
      "metadata": {
        "id": "smP4a-e_g4LZ"
      },
      "source": [
        "## Query in BigQuery"
      ]
    },
    {
      "cell_type": "code",
      "execution_count": null,
      "metadata": {
        "colab": {
          "base_uri": "https://localhost:8080/",
          "height": 116,
          "referenced_widgets": [
            "7f587b3abe8640ffafbd250033af270b",
            "ba364156e05b40d09d1eda94ca050b47",
            "7a2e7e592cac4e158e890a6aaeab0125",
            "6dae7527e70b472286b484332bd4adbc",
            "7f8ccd6462694bda84a7650621bcec0b",
            "045797250bcd4bf48d884c8e67a8eca8",
            "4d323c46002e4a9e947e0df22f9da0e7",
            "2e6cee6299da4fc3928dfde20bdca9ab",
            "9cffc81865c7452383d62f59eb529b5e",
            "b813e804f0604280897faf75d1cf9249",
            "2ef29ca1185a46c68c3aa789d7b09c31",
            "7e3e9f940c964679bdc20a428a45f1db",
            "5b6cddbf43f44df8baf0dae82b9c6174",
            "52932d868fcd404e89359c2ad7f91447",
            "a20b79c40b3f40089185561df68905fe",
            "fb82b358751c42398c85ee919c57ae7e",
            "7143a3b11a2a46a7825a83c00ae54456",
            "7c2fb369247f432e8df3c5bf55b73245",
            "41c9b8f6cd9f4feab901b3e82697bb45",
            "1f7c4e5bb869464c947689c318207df6",
            "0e07c0b745574cf19f809b73e1c6e9c9",
            "2ad23c6d15594b9a83cb18c5f60833cb"
          ]
        },
        "id": "8sCDXMTlg6WY",
        "outputId": "5e8bc1e2-477a-43c5-f32d-795d3886ae5f"
      },
      "outputs": [
        {
          "data": {
            "application/vnd.jupyter.widget-view+json": {
              "model_id": "7f587b3abe8640ffafbd250033af270b",
              "version_major": 2,
              "version_minor": 0
            },
            "text/plain": [
              "Query is running:   0%|          |"
            ]
          },
          "metadata": {},
          "output_type": "display_data"
        },
        {
          "data": {
            "application/vnd.jupyter.widget-view+json": {
              "model_id": "7e3e9f940c964679bdc20a428a45f1db",
              "version_major": 2,
              "version_minor": 0
            },
            "text/plain": [
              "Downloading:   0%|          |"
            ]
          },
          "metadata": {},
          "output_type": "display_data"
        },
        {
          "name": "stdout",
          "output_type": "stream",
          "text": [
            "CPU times: user 95.8 ms, sys: 10.9 ms, total: 107 ms\n",
            "Wall time: 2.21 s\n"
          ]
        }
      ],
      "source": [
        "%%time\n",
        "%%bigquery peak_time --project $PROJECT_ID\n",
        "SELECT\n",
        "  EXTRACT(HOUR FROM start_date) AS start_hour,\n",
        "  COUNT(*) AS num_hires\n",
        "FROM\n",
        "    `bigquery-public-data`.london_bicycles.cycle_hire\n",
        "GROUP BY 1\n",
        "ORDER BY 1 ASC"
      ]
    },
    {
      "cell_type": "code",
      "execution_count": null,
      "metadata": {
        "colab": {
          "base_uri": "https://localhost:8080/"
        },
        "id": "FQfy2bvthPXD",
        "outputId": "a4ffc96f-9057-440d-b7bb-a7a18c9879a4"
      },
      "outputs": [
        {
          "name": "stdout",
          "output_type": "stream",
          "text": [
            "CPU times: user 51.9 ms, sys: 2.03 ms, total: 53.9 ms\n",
            "Wall time: 53.1 ms\n"
          ]
        },
        {
          "data": {
            "text/plain": [
              "Text(0.5, 1.0, 'Number of Bicycle Hires by Hour of the Day')"
            ]
          },
          "execution_count": 13,
          "metadata": {},
          "output_type": "execute_result"
        },
        {
          "data": {
            "image/png": "[encoded data removed]",
            "text/plain": [
              "<Figure size 640x480 with 1 Axes>"
            ]
          },
          "metadata": {},
          "output_type": "display_data"
        }
      ],
      "source": [
        "%%time\n",
        "plt.bar(peak_time.start_hour, peak_time.num_hires)\n",
        "plt.xlabel('Hour of the Day')\n",
        "plt.ylabel('Number of Hires')\n",
        "plt.title('Number of Bicycle Hires by Hour of the Day')"
      ]
    },
    {
      "cell_type": "markdown",
      "metadata": {
        "id": "F5U7zrOXlnlK"
      },
      "source": [
        "# Get Most Popular Stations and Monthly Rental Trends"
      ]
    },
    {
      "cell_type": "code",
      "execution_count": null,
      "metadata": {
        "colab": {
          "base_uri": "https://localhost:8080/",
          "height": 797
        },
        "id": "E1qVIAZzi32a",
        "outputId": "0584f358-b8be-4883-cb9d-f7009781df97"
      },
      "outputs": [
        {
          "data": {
            "text/html": [
              "Query job 3066a6a9-5dec-497c-80b0-b89360fa52b9 is DONE. 3.1 GB processed. <a target=\"_blank\" href=\"https://console.cloud.google.com/bigquery?project=whejna-caixa-dataops&j=bq:EU:3066a6a9-5dec-497c-80b0-b89360fa52b9&page=queryresults\">Open Job</a>"
            ],
            "text/plain": [
              "<IPython.core.display.HTML object>"
            ]
          },
          "metadata": {},
          "output_type": "display_data"
        },
        {
          "data": {
            "text/html": [
              "Query job 16159c32-e3dc-4ad7-a037-24ace4b3347a is DONE. 481 Bytes processed. <a target=\"_blank\" href=\"https://console.cloud.google.com/bigquery?project=whejna-caixa-dataops&j=bq:EU:16159c32-e3dc-4ad7-a037-24ace4b3347a&page=queryresults\">Open Job</a>"
            ],
            "text/plain": [
              "<IPython.core.display.HTML object>"
            ]
          },
          "metadata": {},
          "output_type": "display_data"
        },
        {
          "name": "stdout",
          "output_type": "stream",
          "text": [
            "start_station_name\n",
            "Brandon Street, Walworth                      3551.333834\n",
            "Burgess Park Albany Road, Walworth            3080.065032\n",
            "South Bermondsey Station, Bermondsey          2903.396382\n",
            "Saunders Ness Road, Cubitt Town               2618.056549\n",
            "Black Lion Gate, Kensington Gardens           2602.048262\n",
            "Stebondale Street, Cubitt Town                2571.521903\n",
            "Saltoun Road, Brixton                         2564.568841\n",
            "Park Lane , Hyde Park                         2513.752669\n",
            "Putney Rail Station, Putney                   2503.171697\n",
            "East Village, Queen Elizabeth Olympic Park     2491.97908\n",
            "Name: duration, dtype: Float64\n"
          ]
        },
        {
          "data": {
            "text/html": [
              "Query job c318c626-0fc0-41a2-84a7-462e853ab449 is DONE. 3.1 GB processed. <a target=\"_blank\" href=\"https://console.cloud.google.com/bigquery?project=whejna-caixa-dataops&j=bq:EU:c318c626-0fc0-41a2-84a7-462e853ab449&page=queryresults\">Open Job</a>"
            ],
            "text/plain": [
              "<IPython.core.display.HTML object>"
            ]
          },
          "metadata": {},
          "output_type": "display_data"
        },
        {
          "data": {
            "text/html": [
              "Query job 219b798d-2514-40e4-a6b9-4132917766fd is DONE. 3.1 kB processed. <a target=\"_blank\" href=\"https://console.cloud.google.com/bigquery?project=whejna-caixa-dataops&j=bq:EU:219b798d-2514-40e4-a6b9-4132917766fd&page=queryresults\">Open Job</a>"
            ],
            "text/plain": [
              "<IPython.core.display.HTML object>"
            ]
          },
          "metadata": {},
          "output_type": "display_data"
        },
        {
          "name": "stdout",
          "output_type": "stream",
          "text": [
            "year  month\n",
            "2015  1         475176\n",
            "      2         471425\n",
            "      3         603605\n",
            "      4         715698\n",
            "      5         820183\n",
            "      6         953556\n",
            "      7        1033440\n",
            "      8         947615\n",
            "      9         829382\n",
            "      10        813385\n",
            "      11        629487\n",
            "      12        559455\n",
            "2016  1         539084\n",
            "      2         547857\n",
            "      3         605856\n",
            "      4         709101\n",
            "      5         920837\n",
            "      6         875515\n",
            "      7        1080299\n",
            "      8        1053682\n",
            "      9         973548\n",
            "      10        877453\n",
            "      11        661205\n",
            "      12        613038\n",
            "2017  1         593152\n",
            "dtype: Int64\n",
            "CPU times: user 960 ms, sys: 38.6 ms, total: 999 ms\n",
            "Wall time: 19.6 s\n"
          ]
        }
      ],
      "source": [
        "%%time\n",
        "# Create BigFrames from the tables\n",
        "cycle_hire_bf = bpd.read_gbq(\"bigquery-public-data.london_bicycles.cycle_hire\", use_cache=False)\n",
        "cycle_stations_bf = bpd.read_gbq(\"bigquery-public-data.london_bicycles.cycle_stations\", use_cache=False)\n",
        "\n",
        "# Join the BigFrames on the start station name\n",
        "joined_bf = cycle_hire_bf.merge(\n",
        "    cycle_stations_bf, left_on=\"start_station_name\", right_on=\"name\", how=\"inner\"\n",
        ")\n",
        "\n",
        "# Calculate the average duration of rentals for each station\n",
        "average_duration_by_station = (\n",
        "    joined_bf.groupby(\"start_station_name\")[\"duration\"].mean().sort_values(ascending=False)\n",
        ")\n",
        "\n",
        "# Display the top 10 stations with the longest average rental durations\n",
        "print(average_duration_by_station.head(10))\n",
        "\n",
        "# Analyze rental trends over time\n",
        "# Extract the month and year from the start_date column\n",
        "joined_bf[\"month\"] = joined_bf[\"start_date\"].dt.month\n",
        "joined_bf[\"year\"] = joined_bf[\"start_date\"].dt.year\n",
        "\n",
        "# Group by month and year, and count the number of rentals\n",
        "monthly_rentals = joined_bf.groupby([\"year\", \"month\"]).size()\n",
        "\n",
        "# Print the monthly rental trends\n",
        "print(monthly_rentals)"
      ]
    },
    {
      "cell_type": "code",
      "execution_count": null,
      "metadata": {
        "colab": {
          "base_uri": "https://localhost:8080/",
          "height": 624
        },
        "id": "7K3Jcptwl96j",
        "outputId": "d238ed14-570f-44e0-e430-d56353267845"
      },
      "outputs": [
        {
          "data": {
            "text/html": [
              "Query job 8fe5c11e-040c-4396-8e28-fc2931ee6f32 is DONE. 0 Bytes processed. <a target=\"_blank\" href=\"https://console.cloud.google.com/bigquery?project=whejna-caixa-dataops&j=bq:EU:8fe5c11e-040c-4396-8e28-fc2931ee6f32&page=queryresults\">Open Job</a>"
            ],
            "text/plain": [
              "<IPython.core.display.HTML object>"
            ]
          },
          "metadata": {},
          "output_type": "display_data"
        },
        {
          "data": {
            "image/png": "[encoded data removed]",
            "text/plain": [
              "<Figure size 1000x600 with 1 Axes>"
            ]
          },
          "metadata": {},
          "output_type": "display_data"
        }
      ],
      "source": [
        "# Convert to Pandas DataFrame\n",
        "pd_df = average_duration_by_station.head(10).to_pandas()\n",
        "\n",
        "# Plot using Pandas\n",
        "plt.figure(figsize=(10, 6))\n",
        "pd_df.plot(kind=\"bar\")\n",
        "plt.title(\"Top 10 Stations with Longest Average Rental Duration\")\n",
        "plt.xlabel(\"Station Name\")\n",
        "plt.ylabel(\"Average Duration (seconds)\")\n",
        "plt.xticks(rotation=45, ha=\"right\")\n",
        "plt.tight_layout()\n",
        "plt.show()"
      ]
    },
    {
      "cell_type": "code",
      "execution_count": null,
      "metadata": {
        "colab": {
          "base_uri": "https://localhost:8080/",
          "height": 624
        },
        "id": "WBiBL1Zyj018",
        "outputId": "1cbb8a27-f4db-43ee-a3be-4aa23390f352"
      },
      "outputs": [
        {
          "data": {
            "text/html": [
              "Query job 1b73cbb9-dd72-4ec0-9f56-9b4e6e9a2883 is DONE. 3.1 kB processed. <a target=\"_blank\" href=\"https://console.cloud.google.com/bigquery?project=whejna-caixa-dataops&j=bq:EU:1b73cbb9-dd72-4ec0-9f56-9b4e6e9a2883&page=queryresults\">Open Job</a>"
            ],
            "text/plain": [
              "<IPython.core.display.HTML object>"
            ]
          },
          "metadata": {},
          "output_type": "display_data"
        },
        {
          "data": {
            "image/png": "[encoded data removed]",
            "text/plain": [
              "<Figure size 1200x600 with 1 Axes>"
            ]
          },
          "metadata": {},
          "output_type": "display_data"
        }
      ],
      "source": [
        "# Convert the BigFrame to a Pandas Series\n",
        "monthly_rentals_series = monthly_rentals.to_pandas()\n",
        "\n",
        "# Plot the monthly rental trends\n",
        "plt.figure(figsize=(12, 6))\n",
        "monthly_rentals_series.plot()\n",
        "plt.title(\"Monthly Rental Trends\")\n",
        "plt.xlabel(\"Month\")\n",
        "plt.ylabel(\"Number of Rentals\")\n",
        "plt.grid(True)\n",
        "plt.tight_layout()\n",
        "plt.show()"
      ]
    },
    {
      "cell_type": "markdown",
      "metadata": {
        "id": "iH2jixtxt-7K"
      },
      "source": [
        "## Calculate the average rental duration for each day of the week."
      ]
    },
    {
      "cell_type": "code",
      "execution_count": null,
      "metadata": {
        "colab": {
          "base_uri": "https://localhost:8080/",
          "height": 124
        },
        "id": "8dnTakVxuEec",
        "outputId": "d1606e47-5a86-40e6-8e4f-06b2492a54d5"
      },
      "outputs": [
        {
          "ename": "NameError",
          "evalue": "name 'bpd' is not defined",
          "output_type": "error",
          "traceback": [
            "\u001b[0;31m---------------------------------------------------------------------------\u001b[0m",
            "\u001b[0;31mNameError\u001b[0m                                 Traceback (most recent call last)",
            "\u001b[0;32m<timed exec>\u001b[0m in \u001b[0;36m<module>\u001b[0;34m\u001b[0m\n",
            "\u001b[0;31mNameError\u001b[0m: name 'bpd' is not defined"
          ]
        }
      ],
      "source": [
        "%%time\n",
        "# Create BigFrames from the tables\n",
        "cycle_hire_bf = bpd.read_gbq(\"bigquery-public-data.london_bicycles.cycle_hire\", use_cache=False)"
      ]
    }
  ],
  "metadata": {
    "colab": {
      "provenance": []
    },
    "kernelspec": {
      "display_name": "Python 3",
      "name": "python3"
    },
    "language_info": {
      "name": "python"
    },
    "widgets": {
      "application/vnd.jupyter.widget-state+json": {
        "02cda504338941039f901cee4ff004c7": {
          "model_module": "@jupyter-widgets/controls",
          "model_module_version": "1.5.0",
          "model_name": "HBoxModel",
          "state": {
            "_dom_classes": [],
            "_model_module": "@jupyter-widgets/controls",
            "_model_module_version": "1.5.0",
            "_model_name": "HBoxModel",
            "_view_count": null,
            "_view_module": "@jupyter-widgets/controls",
            "_view_module_version": "1.5.0",
            "_view_name": "HBoxView",
            "box_style": "",
            "children": [
              "IPY_MODEL_932c474b7038402ca37f4b12b3ab40d5",
              "IPY_MODEL_3b25bfb5ab4940bf9b5ae685c85f33a5",
              "IPY_MODEL_3e7bd5d33ee74d3cb353f4160855e372"
            ],
            "layout": "IPY_MODEL_11b7012e74fb4e939c5706fea6288ee4"
          }
        },
        "045797250bcd4bf48d884c8e67a8eca8": {
          "model_module": "@jupyter-widgets/base",
          "model_module_version": "1.2.0",
          "model_name": "LayoutModel",
          "state": {
            "_model_module": "@jupyter-widgets/base",
            "_model_module_version": "1.2.0",
            "_model_name": "LayoutModel",
            "_view_count": null,
            "_view_module": "@jupyter-widgets/base",
            "_view_module_version": "1.2.0",
            "_view_name": "LayoutView",
            "align_content": null,
            "align_items": null,
            "align_self": null,
            "border": null,
            "bottom": null,
            "display": null,
            "flex": null,
            "flex_flow": null,
            "grid_area": null,
            "grid_auto_columns": null,
            "grid_auto_flow": null,
            "grid_auto_rows": null,
            "grid_column": null,
            "grid_gap": null,
            "grid_row": null,
            "grid_template_areas": null,
            "grid_template_columns": null,
            "grid_template_rows": null,
            "height": null,
            "justify_content": null,
            "justify_items": null,
            "left": null,
            "margin": null,
            "max_height": null,
            "max_width": null,
            "min_height": null,
            "min_width": null,
            "object_fit": null,
            "object_position": null,
            "order": null,
            "overflow": null,
            "overflow_x": null,
            "overflow_y": null,
            "padding": null,
            "right": null,
            "top": null,
            "visibility": null,
            "width": null
          }
        },
        "0e07c0b745574cf19f809b73e1c6e9c9": {
          "model_module": "@jupyter-widgets/base",
          "model_module_version": "1.2.0",
          "model_name": "LayoutModel",
          "state": {
            "_model_module": "@jupyter-widgets/base",
            "_model_module_version": "1.2.0",
            "_model_name": "LayoutModel",
            "_view_count": null,
            "_view_module": "@jupyter-widgets/base",
            "_view_module_version": "1.2.0",
            "_view_name": "LayoutView",
            "align_content": null,
            "align_items": null,
            "align_self": null,
            "border": null,
            "bottom": null,
            "display": null,
            "flex": null,
            "flex_flow": null,
            "grid_area": null,
            "grid_auto_columns": null,
            "grid_auto_flow": null,
            "grid_auto_rows": null,
            "grid_column": null,
            "grid_gap": null,
            "grid_row": null,
            "grid_template_areas": null,
            "grid_template_columns": null,
            "grid_template_rows": null,
            "height": null,
            "justify_content": null,
            "justify_items": null,
            "left": null,
            "margin": null,
            "max_height": null,
            "max_width": null,
            "min_height": null,
            "min_width": null,
            "object_fit": null,
            "object_position": null,
            "order": null,
            "overflow": null,
            "overflow_x": null,
            "overflow_y": null,
            "padding": null,
            "right": null,
            "top": null,
            "visibility": null,
            "width": null
          }
        },
        "11b7012e74fb4e939c5706fea6288ee4": {
          "model_module": "@jupyter-widgets/base",
          "model_module_version": "1.2.0",
          "model_name": "LayoutModel",
          "state": {
            "_model_module": "@jupyter-widgets/base",
            "_model_module_version": "1.2.0",
            "_model_name": "LayoutModel",
            "_view_count": null,
            "_view_module": "@jupyter-widgets/base",
            "_view_module_version": "1.2.0",
            "_view_name": "LayoutView",
            "align_content": null,
            "align_items": null,
            "align_self": null,
            "border": null,
            "bottom": null,
            "display": null,
            "flex": null,
            "flex_flow": null,
            "grid_area": null,
            "grid_auto_columns": null,
            "grid_auto_flow": null,
            "grid_auto_rows": null,
            "grid_column": null,
            "grid_gap": null,
            "grid_row": null,
            "grid_template_areas": null,
            "grid_template_columns": null,
            "grid_template_rows": null,
            "height": null,
            "justify_content": null,
            "justify_items": null,
            "left": null,
            "margin": null,
            "max_height": null,
            "max_width": null,
            "min_height": null,
            "min_width": null,
            "object_fit": null,
            "object_position": null,
            "order": null,
            "overflow": null,
            "overflow_x": null,
            "overflow_y": null,
            "padding": null,
            "right": null,
            "top": null,
            "visibility": null,
            "width": null
          }
        },
        "1f7c4e5bb869464c947689c318207df6": {
          "model_module": "@jupyter-widgets/controls",
          "model_module_version": "1.5.0",
          "model_name": "ProgressStyleModel",
          "state": {
            "_model_module": "@jupyter-widgets/controls",
            "_model_module_version": "1.5.0",
            "_model_name": "ProgressStyleModel",
            "_view_count": null,
            "_view_module": "@jupyter-widgets/base",
            "_view_module_version": "1.2.0",
            "_view_name": "StyleView",
            "bar_color": null,
            "description_width": ""
          }
        },
        "2ad23c6d15594b9a83cb18c5f60833cb": {
          "model_module": "@jupyter-widgets/controls",
          "model_module_version": "1.5.0",
          "model_name": "DescriptionStyleModel",
          "state": {
            "_model_module": "@jupyter-widgets/controls",
            "_model_module_version": "1.5.0",
            "_model_name": "DescriptionStyleModel",
            "_view_count": null,
            "_view_module": "@jupyter-widgets/base",
            "_view_module_version": "1.2.0",
            "_view_name": "StyleView",
            "description_width": ""
          }
        },
        "2e6cee6299da4fc3928dfde20bdca9ab": {
          "model_module": "@jupyter-widgets/base",
          "model_module_version": "1.2.0",
          "model_name": "LayoutModel",
          "state": {
            "_model_module": "@jupyter-widgets/base",
            "_model_module_version": "1.2.0",
            "_model_name": "LayoutModel",
            "_view_count": null,
            "_view_module": "@jupyter-widgets/base",
            "_view_module_version": "1.2.0",
            "_view_name": "LayoutView",
            "align_content": null,
            "align_items": null,
            "align_self": null,
            "border": null,
            "bottom": null,
            "display": null,
            "flex": null,
            "flex_flow": null,
            "grid_area": null,
            "grid_auto_columns": null,
            "grid_auto_flow": null,
            "grid_auto_rows": null,
            "grid_column": null,
            "grid_gap": null,
            "grid_row": null,
            "grid_template_areas": null,
            "grid_template_columns": null,
            "grid_template_rows": null,
            "height": null,
            "justify_content": null,
            "justify_items": null,
            "left": null,
            "margin": null,
            "max_height": null,
            "max_width": null,
            "min_height": null,
            "min_width": null,
            "object_fit": null,
            "object_position": null,
            "order": null,
            "overflow": null,
            "overflow_x": null,
            "overflow_y": null,
            "padding": null,
            "right": null,
            "top": null,
            "visibility": null,
            "width": null
          }
        },
        "2ef29ca1185a46c68c3aa789d7b09c31": {
          "model_module": "@jupyter-widgets/controls",
          "model_module_version": "1.5.0",
          "model_name": "DescriptionStyleModel",
          "state": {
            "_model_module": "@jupyter-widgets/controls",
            "_model_module_version": "1.5.0",
            "_model_name": "DescriptionStyleModel",
            "_view_count": null,
            "_view_module": "@jupyter-widgets/base",
            "_view_module_version": "1.2.0",
            "_view_name": "StyleView",
            "description_width": ""
          }
        },
        "2f00a93a21ac4b8d915ef8aa37d70e9b": {
          "model_module": "@jupyter-widgets/base",
          "model_module_version": "1.2.0",
          "model_name": "LayoutModel",
          "state": {
            "_model_module": "@jupyter-widgets/base",
            "_model_module_version": "1.2.0",
            "_model_name": "LayoutModel",
            "_view_count": null,
            "_view_module": "@jupyter-widgets/base",
            "_view_module_version": "1.2.0",
            "_view_name": "LayoutView",
            "align_content": null,
            "align_items": null,
            "align_self": null,
            "border": null,
            "bottom": null,
            "display": null,
            "flex": null,
            "flex_flow": null,
            "grid_area": null,
            "grid_auto_columns": null,
            "grid_auto_flow": null,
            "grid_auto_rows": null,
            "grid_column": null,
            "grid_gap": null,
            "grid_row": null,
            "grid_template_areas": null,
            "grid_template_columns": null,
            "grid_template_rows": null,
            "height": null,
            "justify_content": null,
            "justify_items": null,
            "left": null,
            "margin": null,
            "max_height": null,
            "max_width": null,
            "min_height": null,
            "min_width": null,
            "object_fit": null,
            "object_position": null,
            "order": null,
            "overflow": null,
            "overflow_x": null,
            "overflow_y": null,
            "padding": null,
            "right": null,
            "top": null,
            "visibility": null,
            "width": null
          }
        },
        "30a50f9bb98e40e7803dfc7ce4ac27f5": {
          "model_module": "@jupyter-widgets/controls",
          "model_module_version": "1.5.0",
          "model_name": "DescriptionStyleModel",
          "state": {
            "_model_module": "@jupyter-widgets/controls",
            "_model_module_version": "1.5.0",
            "_model_name": "DescriptionStyleModel",
            "_view_count": null,
            "_view_module": "@jupyter-widgets/base",
            "_view_module_version": "1.2.0",
            "_view_name": "StyleView",
            "description_width": ""
          }
        },
        "3b25bfb5ab4940bf9b5ae685c85f33a5": {
          "model_module": "@jupyter-widgets/controls",
          "model_module_version": "1.5.0",
          "model_name": "FloatProgressModel",
          "state": {
            "_dom_classes": [],
            "_model_module": "@jupyter-widgets/controls",
            "_model_module_version": "1.5.0",
            "_model_name": "FloatProgressModel",
            "_view_count": null,
            "_view_module": "@jupyter-widgets/controls",
            "_view_module_version": "1.5.0",
            "_view_name": "ProgressView",
            "bar_style": "success",
            "description": "",
            "description_tooltip": null,
            "layout": "IPY_MODEL_90d50fe43f7943c68a909b3e0bfe63c3",
            "max": 1,
            "min": 0,
            "orientation": "horizontal",
            "style": "IPY_MODEL_ac191ced67404163a39386cce3ba3943",
            "value": 1
          }
        },
        "3e7bd5d33ee74d3cb353f4160855e372": {
          "model_module": "@jupyter-widgets/controls",
          "model_module_version": "1.5.0",
          "model_name": "HTMLModel",
          "state": {
            "_dom_classes": [],
            "_model_module": "@jupyter-widgets/controls",
            "_model_module_version": "1.5.0",
            "_model_name": "HTMLModel",
            "_view_count": null,
            "_view_module": "@jupyter-widgets/controls",
            "_view_module_version": "1.5.0",
            "_view_name": "HTMLView",
            "description": "",
            "description_tooltip": null,
            "layout": "IPY_MODEL_91b20d18d7524292a892d2da23fcb2a9",
            "placeholder": "​",
            "style": "IPY_MODEL_988a44e77e064fe1ab212a99409f472a",
            "value": ""
          }
        },
        "3fb1549816c749eca011b588ca8fb08f": {
          "model_module": "@jupyter-widgets/base",
          "model_module_version": "1.2.0",
          "model_name": "LayoutModel",
          "state": {
            "_model_module": "@jupyter-widgets/base",
            "_model_module_version": "1.2.0",
            "_model_name": "LayoutModel",
            "_view_count": null,
            "_view_module": "@jupyter-widgets/base",
            "_view_module_version": "1.2.0",
            "_view_name": "LayoutView",
            "align_content": null,
            "align_items": null,
            "align_self": null,
            "border": null,
            "bottom": null,
            "display": null,
            "flex": null,
            "flex_flow": null,
            "grid_area": null,
            "grid_auto_columns": null,
            "grid_auto_flow": null,
            "grid_auto_rows": null,
            "grid_column": null,
            "grid_gap": null,
            "grid_row": null,
            "grid_template_areas": null,
            "grid_template_columns": null,
            "grid_template_rows": null,
            "height": null,
            "justify_content": null,
            "justify_items": null,
            "left": null,
            "margin": null,
            "max_height": null,
            "max_width": null,
            "min_height": null,
            "min_width": null,
            "object_fit": null,
            "object_position": null,
            "order": null,
            "overflow": null,
            "overflow_x": null,
            "overflow_y": null,
            "padding": null,
            "right": null,
            "top": null,
            "visibility": null,
            "width": null
          }
        },
        "41c9b8f6cd9f4feab901b3e82697bb45": {
          "model_module": "@jupyter-widgets/base",
          "model_module_version": "1.2.0",
          "model_name": "LayoutModel",
          "state": {
            "_model_module": "@jupyter-widgets/base",
            "_model_module_version": "1.2.0",
            "_model_name": "LayoutModel",
            "_view_count": null,
            "_view_module": "@jupyter-widgets/base",
            "_view_module_version": "1.2.0",
            "_view_name": "LayoutView",
            "align_content": null,
            "align_items": null,
            "align_self": null,
            "border": null,
            "bottom": null,
            "display": null,
            "flex": null,
            "flex_flow": null,
            "grid_area": null,
            "grid_auto_columns": null,
            "grid_auto_flow": null,
            "grid_auto_rows": null,
            "grid_column": null,
            "grid_gap": null,
            "grid_row": null,
            "grid_template_areas": null,
            "grid_template_columns": null,
            "grid_template_rows": null,
            "height": null,
            "justify_content": null,
            "justify_items": null,
            "left": null,
            "margin": null,
            "max_height": null,
            "max_width": null,
            "min_height": null,
            "min_width": null,
            "object_fit": null,
            "object_position": null,
            "order": null,
            "overflow": null,
            "overflow_x": null,
            "overflow_y": null,
            "padding": null,
            "right": null,
            "top": null,
            "visibility": null,
            "width": null
          }
        },
        "4d323c46002e4a9e947e0df22f9da0e7": {
          "model_module": "@jupyter-widgets/controls",
          "model_module_version": "1.5.0",
          "model_name": "DescriptionStyleModel",
          "state": {
            "_model_module": "@jupyter-widgets/controls",
            "_model_module_version": "1.5.0",
            "_model_name": "DescriptionStyleModel",
            "_view_count": null,
            "_view_module": "@jupyter-widgets/base",
            "_view_module_version": "1.2.0",
            "_view_name": "StyleView",
            "description_width": ""
          }
        },
        "4d5f091105eb4b1da91b1056a81ffe92": {
          "model_module": "@jupyter-widgets/controls",
          "model_module_version": "1.5.0",
          "model_name": "DescriptionStyleModel",
          "state": {
            "_model_module": "@jupyter-widgets/controls",
            "_model_module_version": "1.5.0",
            "_model_name": "DescriptionStyleModel",
            "_view_count": null,
            "_view_module": "@jupyter-widgets/base",
            "_view_module_version": "1.2.0",
            "_view_name": "StyleView",
            "description_width": ""
          }
        },
        "52932d868fcd404e89359c2ad7f91447": {
          "model_module": "@jupyter-widgets/controls",
          "model_module_version": "1.5.0",
          "model_name": "FloatProgressModel",
          "state": {
            "_dom_classes": [],
            "_model_module": "@jupyter-widgets/controls",
            "_model_module_version": "1.5.0",
            "_model_name": "FloatProgressModel",
            "_view_count": null,
            "_view_module": "@jupyter-widgets/controls",
            "_view_module_version": "1.5.0",
            "_view_name": "ProgressView",
            "bar_style": "success",
            "description": "",
            "description_tooltip": null,
            "layout": "IPY_MODEL_41c9b8f6cd9f4feab901b3e82697bb45",
            "max": 24,
            "min": 0,
            "orientation": "horizontal",
            "style": "IPY_MODEL_1f7c4e5bb869464c947689c318207df6",
            "value": 24
          }
        },
        "5b6cddbf43f44df8baf0dae82b9c6174": {
          "model_module": "@jupyter-widgets/controls",
          "model_module_version": "1.5.0",
          "model_name": "HTMLModel",
          "state": {
            "_dom_classes": [],
            "_model_module": "@jupyter-widgets/controls",
            "_model_module_version": "1.5.0",
            "_model_name": "HTMLModel",
            "_view_count": null,
            "_view_module": "@jupyter-widgets/controls",
            "_view_module_version": "1.5.0",
            "_view_name": "HTMLView",
            "description": "",
            "description_tooltip": null,
            "layout": "IPY_MODEL_7143a3b11a2a46a7825a83c00ae54456",
            "placeholder": "​",
            "style": "IPY_MODEL_7c2fb369247f432e8df3c5bf55b73245",
            "value": "Downloading: 100%"
          }
        },
        "5fe8305f0fec40659e90a9c5d59f3adf": {
          "model_module": "@jupyter-widgets/base",
          "model_module_version": "1.2.0",
          "model_name": "LayoutModel",
          "state": {
            "_model_module": "@jupyter-widgets/base",
            "_model_module_version": "1.2.0",
            "_model_name": "LayoutModel",
            "_view_count": null,
            "_view_module": "@jupyter-widgets/base",
            "_view_module_version": "1.2.0",
            "_view_name": "LayoutView",
            "align_content": null,
            "align_items": null,
            "align_self": null,
            "border": null,
            "bottom": null,
            "display": null,
            "flex": null,
            "flex_flow": null,
            "grid_area": null,
            "grid_auto_columns": null,
            "grid_auto_flow": null,
            "grid_auto_rows": null,
            "grid_column": null,
            "grid_gap": null,
            "grid_row": null,
            "grid_template_areas": null,
            "grid_template_columns": null,
            "grid_template_rows": null,
            "height": null,
            "justify_content": null,
            "justify_items": null,
            "left": null,
            "margin": null,
            "max_height": null,
            "max_width": null,
            "min_height": null,
            "min_width": null,
            "object_fit": null,
            "object_position": null,
            "order": null,
            "overflow": null,
            "overflow_x": null,
            "overflow_y": null,
            "padding": null,
            "right": null,
            "top": null,
            "visibility": null,
            "width": null
          }
        },
        "6280ef9279294f00a95e53c08a10d82b": {
          "model_module": "@jupyter-widgets/controls",
          "model_module_version": "1.5.0",
          "model_name": "ProgressStyleModel",
          "state": {
            "_model_module": "@jupyter-widgets/controls",
            "_model_module_version": "1.5.0",
            "_model_name": "ProgressStyleModel",
            "_view_count": null,
            "_view_module": "@jupyter-widgets/base",
            "_view_module_version": "1.2.0",
            "_view_name": "StyleView",
            "bar_color": null,
            "description_width": ""
          }
        },
        "6da379b2e66a475faae59208c832eb75": {
          "model_module": "@jupyter-widgets/base",
          "model_module_version": "1.2.0",
          "model_name": "LayoutModel",
          "state": {
            "_model_module": "@jupyter-widgets/base",
            "_model_module_version": "1.2.0",
            "_model_name": "LayoutModel",
            "_view_count": null,
            "_view_module": "@jupyter-widgets/base",
            "_view_module_version": "1.2.0",
            "_view_name": "LayoutView",
            "align_content": null,
            "align_items": null,
            "align_self": null,
            "border": null,
            "bottom": null,
            "display": null,
            "flex": null,
            "flex_flow": null,
            "grid_area": null,
            "grid_auto_columns": null,
            "grid_auto_flow": null,
            "grid_auto_rows": null,
            "grid_column": null,
            "grid_gap": null,
            "grid_row": null,
            "grid_template_areas": null,
            "grid_template_columns": null,
            "grid_template_rows": null,
            "height": null,
            "justify_content": null,
            "justify_items": null,
            "left": null,
            "margin": null,
            "max_height": null,
            "max_width": null,
            "min_height": null,
            "min_width": null,
            "object_fit": null,
            "object_position": null,
            "order": null,
            "overflow": null,
            "overflow_x": null,
            "overflow_y": null,
            "padding": null,
            "right": null,
            "top": null,
            "visibility": null,
            "width": null
          }
        },
        "6dae7527e70b472286b484332bd4adbc": {
          "model_module": "@jupyter-widgets/controls",
          "model_module_version": "1.5.0",
          "model_name": "HTMLModel",
          "state": {
            "_dom_classes": [],
            "_model_module": "@jupyter-widgets/controls",
            "_model_module_version": "1.5.0",
            "_model_name": "HTMLModel",
            "_view_count": null,
            "_view_module": "@jupyter-widgets/controls",
            "_view_module_version": "1.5.0",
            "_view_name": "HTMLView",
            "description": "",
            "description_tooltip": null,
            "layout": "IPY_MODEL_b813e804f0604280897faf75d1cf9249",
            "placeholder": "​",
            "style": "IPY_MODEL_2ef29ca1185a46c68c3aa789d7b09c31",
            "value": ""
          }
        },
        "7143a3b11a2a46a7825a83c00ae54456": {
          "model_module": "@jupyter-widgets/base",
          "model_module_version": "1.2.0",
          "model_name": "LayoutModel",
          "state": {
            "_model_module": "@jupyter-widgets/base",
            "_model_module_version": "1.2.0",
            "_model_name": "LayoutModel",
            "_view_count": null,
            "_view_module": "@jupyter-widgets/base",
            "_view_module_version": "1.2.0",
            "_view_name": "LayoutView",
            "align_content": null,
            "align_items": null,
            "align_self": null,
            "border": null,
            "bottom": null,
            "display": null,
            "flex": null,
            "flex_flow": null,
            "grid_area": null,
            "grid_auto_columns": null,
            "grid_auto_flow": null,
            "grid_auto_rows": null,
            "grid_column": null,
            "grid_gap": null,
            "grid_row": null,
            "grid_template_areas": null,
            "grid_template_columns": null,
            "grid_template_rows": null,
            "height": null,
            "justify_content": null,
            "justify_items": null,
            "left": null,
            "margin": null,
            "max_height": null,
            "max_width": null,
            "min_height": null,
            "min_width": null,
            "object_fit": null,
            "object_position": null,
            "order": null,
            "overflow": null,
            "overflow_x": null,
            "overflow_y": null,
            "padding": null,
            "right": null,
            "top": null,
            "visibility": null,
            "width": null
          }
        },
        "7a2e7e592cac4e158e890a6aaeab0125": {
          "model_module": "@jupyter-widgets/controls",
          "model_module_version": "1.5.0",
          "model_name": "FloatProgressModel",
          "state": {
            "_dom_classes": [],
            "_model_module": "@jupyter-widgets/controls",
            "_model_module_version": "1.5.0",
            "_model_name": "FloatProgressModel",
            "_view_count": null,
            "_view_module": "@jupyter-widgets/controls",
            "_view_module_version": "1.5.0",
            "_view_name": "ProgressView",
            "bar_style": "success",
            "description": "",
            "description_tooltip": null,
            "layout": "IPY_MODEL_2e6cee6299da4fc3928dfde20bdca9ab",
            "max": 1,
            "min": 0,
            "orientation": "horizontal",
            "style": "IPY_MODEL_9cffc81865c7452383d62f59eb529b5e",
            "value": 1
          }
        },
        "7acd758e96f2406bb489d78373db43b8": {
          "model_module": "@jupyter-widgets/controls",
          "model_module_version": "1.5.0",
          "model_name": "HBoxModel",
          "state": {
            "_dom_classes": [],
            "_model_module": "@jupyter-widgets/controls",
            "_model_module_version": "1.5.0",
            "_model_name": "HBoxModel",
            "_view_count": null,
            "_view_module": "@jupyter-widgets/controls",
            "_view_module_version": "1.5.0",
            "_view_name": "HBoxView",
            "box_style": "",
            "children": [
              "IPY_MODEL_9c6ef7dab6764a2f923c5ca19fe3198d",
              "IPY_MODEL_b02d52b4782a4df2b6075eceadc30d96",
              "IPY_MODEL_d390f62de4684e4aa4b9955409ac25f9"
            ],
            "layout": "IPY_MODEL_3fb1549816c749eca011b588ca8fb08f"
          }
        },
        "7c2fb369247f432e8df3c5bf55b73245": {
          "model_module": "@jupyter-widgets/controls",
          "model_module_version": "1.5.0",
          "model_name": "DescriptionStyleModel",
          "state": {
            "_model_module": "@jupyter-widgets/controls",
            "_model_module_version": "1.5.0",
            "_model_name": "DescriptionStyleModel",
            "_view_count": null,
            "_view_module": "@jupyter-widgets/base",
            "_view_module_version": "1.2.0",
            "_view_name": "StyleView",
            "description_width": ""
          }
        },
        "7e3e9f940c964679bdc20a428a45f1db": {
          "model_module": "@jupyter-widgets/controls",
          "model_module_version": "1.5.0",
          "model_name": "HBoxModel",
          "state": {
            "_dom_classes": [],
            "_model_module": "@jupyter-widgets/controls",
            "_model_module_version": "1.5.0",
            "_model_name": "HBoxModel",
            "_view_count": null,
            "_view_module": "@jupyter-widgets/controls",
            "_view_module_version": "1.5.0",
            "_view_name": "HBoxView",
            "box_style": "",
            "children": [
              "IPY_MODEL_5b6cddbf43f44df8baf0dae82b9c6174",
              "IPY_MODEL_52932d868fcd404e89359c2ad7f91447",
              "IPY_MODEL_a20b79c40b3f40089185561df68905fe"
            ],
            "layout": "IPY_MODEL_fb82b358751c42398c85ee919c57ae7e"
          }
        },
        "7f587b3abe8640ffafbd250033af270b": {
          "model_module": "@jupyter-widgets/controls",
          "model_module_version": "1.5.0",
          "model_name": "HBoxModel",
          "state": {
            "_dom_classes": [],
            "_model_module": "@jupyter-widgets/controls",
            "_model_module_version": "1.5.0",
            "_model_name": "HBoxModel",
            "_view_count": null,
            "_view_module": "@jupyter-widgets/controls",
            "_view_module_version": "1.5.0",
            "_view_name": "HBoxView",
            "box_style": "",
            "children": [
              "IPY_MODEL_ba364156e05b40d09d1eda94ca050b47",
              "IPY_MODEL_7a2e7e592cac4e158e890a6aaeab0125",
              "IPY_MODEL_6dae7527e70b472286b484332bd4adbc"
            ],
            "layout": "IPY_MODEL_7f8ccd6462694bda84a7650621bcec0b"
          }
        },
        "7f8ccd6462694bda84a7650621bcec0b": {
          "model_module": "@jupyter-widgets/base",
          "model_module_version": "1.2.0",
          "model_name": "LayoutModel",
          "state": {
            "_model_module": "@jupyter-widgets/base",
            "_model_module_version": "1.2.0",
            "_model_name": "LayoutModel",
            "_view_count": null,
            "_view_module": "@jupyter-widgets/base",
            "_view_module_version": "1.2.0",
            "_view_name": "LayoutView",
            "align_content": null,
            "align_items": null,
            "align_self": null,
            "border": null,
            "bottom": null,
            "display": null,
            "flex": null,
            "flex_flow": null,
            "grid_area": null,
            "grid_auto_columns": null,
            "grid_auto_flow": null,
            "grid_auto_rows": null,
            "grid_column": null,
            "grid_gap": null,
            "grid_row": null,
            "grid_template_areas": null,
            "grid_template_columns": null,
            "grid_template_rows": null,
            "height": null,
            "justify_content": null,
            "justify_items": null,
            "left": null,
            "margin": null,
            "max_height": null,
            "max_width": null,
            "min_height": null,
            "min_width": null,
            "object_fit": null,
            "object_position": null,
            "order": null,
            "overflow": null,
            "overflow_x": null,
            "overflow_y": null,
            "padding": null,
            "right": null,
            "top": null,
            "visibility": null,
            "width": null
          }
        },
        "90d50fe43f7943c68a909b3e0bfe63c3": {
          "model_module": "@jupyter-widgets/base",
          "model_module_version": "1.2.0",
          "model_name": "LayoutModel",
          "state": {
            "_model_module": "@jupyter-widgets/base",
            "_model_module_version": "1.2.0",
            "_model_name": "LayoutModel",
            "_view_count": null,
            "_view_module": "@jupyter-widgets/base",
            "_view_module_version": "1.2.0",
            "_view_name": "LayoutView",
            "align_content": null,
            "align_items": null,
            "align_self": null,
            "border": null,
            "bottom": null,
            "display": null,
            "flex": null,
            "flex_flow": null,
            "grid_area": null,
            "grid_auto_columns": null,
            "grid_auto_flow": null,
            "grid_auto_rows": null,
            "grid_column": null,
            "grid_gap": null,
            "grid_row": null,
            "grid_template_areas": null,
            "grid_template_columns": null,
            "grid_template_rows": null,
            "height": null,
            "justify_content": null,
            "justify_items": null,
            "left": null,
            "margin": null,
            "max_height": null,
            "max_width": null,
            "min_height": null,
            "min_width": null,
            "object_fit": null,
            "object_position": null,
            "order": null,
            "overflow": null,
            "overflow_x": null,
            "overflow_y": null,
            "padding": null,
            "right": null,
            "top": null,
            "visibility": null,
            "width": null
          }
        },
        "91b20d18d7524292a892d2da23fcb2a9": {
          "model_module": "@jupyter-widgets/base",
          "model_module_version": "1.2.0",
          "model_name": "LayoutModel",
          "state": {
            "_model_module": "@jupyter-widgets/base",
            "_model_module_version": "1.2.0",
            "_model_name": "LayoutModel",
            "_view_count": null,
            "_view_module": "@jupyter-widgets/base",
            "_view_module_version": "1.2.0",
            "_view_name": "LayoutView",
            "align_content": null,
            "align_items": null,
            "align_self": null,
            "border": null,
            "bottom": null,
            "display": null,
            "flex": null,
            "flex_flow": null,
            "grid_area": null,
            "grid_auto_columns": null,
            "grid_auto_flow": null,
            "grid_auto_rows": null,
            "grid_column": null,
            "grid_gap": null,
            "grid_row": null,
            "grid_template_areas": null,
            "grid_template_columns": null,
            "grid_template_rows": null,
            "height": null,
            "justify_content": null,
            "justify_items": null,
            "left": null,
            "margin": null,
            "max_height": null,
            "max_width": null,
            "min_height": null,
            "min_width": null,
            "object_fit": null,
            "object_position": null,
            "order": null,
            "overflow": null,
            "overflow_x": null,
            "overflow_y": null,
            "padding": null,
            "right": null,
            "top": null,
            "visibility": null,
            "width": null
          }
        },
        "932c474b7038402ca37f4b12b3ab40d5": {
          "model_module": "@jupyter-widgets/controls",
          "model_module_version": "1.5.0",
          "model_name": "HTMLModel",
          "state": {
            "_dom_classes": [],
            "_model_module": "@jupyter-widgets/controls",
            "_model_module_version": "1.5.0",
            "_model_name": "HTMLModel",
            "_view_count": null,
            "_view_module": "@jupyter-widgets/controls",
            "_view_module_version": "1.5.0",
            "_view_name": "HTMLView",
            "description": "",
            "description_tooltip": null,
            "layout": "IPY_MODEL_2f00a93a21ac4b8d915ef8aa37d70e9b",
            "placeholder": "​",
            "style": "IPY_MODEL_30a50f9bb98e40e7803dfc7ce4ac27f5",
            "value": "Job ID 57b40983-9f99-40eb-b2ee-56333f37d099 successfully executed: 100%"
          }
        },
        "988a44e77e064fe1ab212a99409f472a": {
          "model_module": "@jupyter-widgets/controls",
          "model_module_version": "1.5.0",
          "model_name": "DescriptionStyleModel",
          "state": {
            "_model_module": "@jupyter-widgets/controls",
            "_model_module_version": "1.5.0",
            "_model_name": "DescriptionStyleModel",
            "_view_count": null,
            "_view_module": "@jupyter-widgets/base",
            "_view_module_version": "1.2.0",
            "_view_name": "StyleView",
            "description_width": ""
          }
        },
        "9c6ef7dab6764a2f923c5ca19fe3198d": {
          "model_module": "@jupyter-widgets/controls",
          "model_module_version": "1.5.0",
          "model_name": "HTMLModel",
          "state": {
            "_dom_classes": [],
            "_model_module": "@jupyter-widgets/controls",
            "_model_module_version": "1.5.0",
            "_model_name": "HTMLModel",
            "_view_count": null,
            "_view_module": "@jupyter-widgets/controls",
            "_view_module_version": "1.5.0",
            "_view_name": "HTMLView",
            "description": "",
            "description_tooltip": null,
            "layout": "IPY_MODEL_6da379b2e66a475faae59208c832eb75",
            "placeholder": "​",
            "style": "IPY_MODEL_4d5f091105eb4b1da91b1056a81ffe92",
            "value": "Downloading: 100%"
          }
        },
        "9cffc81865c7452383d62f59eb529b5e": {
          "model_module": "@jupyter-widgets/controls",
          "model_module_version": "1.5.0",
          "model_name": "ProgressStyleModel",
          "state": {
            "_model_module": "@jupyter-widgets/controls",
            "_model_module_version": "1.5.0",
            "_model_name": "ProgressStyleModel",
            "_view_count": null,
            "_view_module": "@jupyter-widgets/base",
            "_view_module_version": "1.2.0",
            "_view_name": "StyleView",
            "bar_color": null,
            "description_width": ""
          }
        },
        "a0121a0338cb484aa7ab74b577bded5c": {
          "model_module": "@jupyter-widgets/controls",
          "model_module_version": "1.5.0",
          "model_name": "DescriptionStyleModel",
          "state": {
            "_model_module": "@jupyter-widgets/controls",
            "_model_module_version": "1.5.0",
            "_model_name": "DescriptionStyleModel",
            "_view_count": null,
            "_view_module": "@jupyter-widgets/base",
            "_view_module_version": "1.2.0",
            "_view_name": "StyleView",
            "description_width": ""
          }
        },
        "a20b79c40b3f40089185561df68905fe": {
          "model_module": "@jupyter-widgets/controls",
          "model_module_version": "1.5.0",
          "model_name": "HTMLModel",
          "state": {
            "_dom_classes": [],
            "_model_module": "@jupyter-widgets/controls",
            "_model_module_version": "1.5.0",
            "_model_name": "HTMLModel",
            "_view_count": null,
            "_view_module": "@jupyter-widgets/controls",
            "_view_module_version": "1.5.0",
            "_view_name": "HTMLView",
            "description": "",
            "description_tooltip": null,
            "layout": "IPY_MODEL_0e07c0b745574cf19f809b73e1c6e9c9",
            "placeholder": "​",
            "style": "IPY_MODEL_2ad23c6d15594b9a83cb18c5f60833cb",
            "value": ""
          }
        },
        "ac191ced67404163a39386cce3ba3943": {
          "model_module": "@jupyter-widgets/controls",
          "model_module_version": "1.5.0",
          "model_name": "ProgressStyleModel",
          "state": {
            "_model_module": "@jupyter-widgets/controls",
            "_model_module_version": "1.5.0",
            "_model_name": "ProgressStyleModel",
            "_view_count": null,
            "_view_module": "@jupyter-widgets/base",
            "_view_module_version": "1.2.0",
            "_view_name": "StyleView",
            "bar_color": null,
            "description_width": ""
          }
        },
        "b02d52b4782a4df2b6075eceadc30d96": {
          "model_module": "@jupyter-widgets/controls",
          "model_module_version": "1.5.0",
          "model_name": "FloatProgressModel",
          "state": {
            "_dom_classes": [],
            "_model_module": "@jupyter-widgets/controls",
            "_model_module_version": "1.5.0",
            "_model_name": "FloatProgressModel",
            "_view_count": null,
            "_view_module": "@jupyter-widgets/controls",
            "_view_module_version": "1.5.0",
            "_view_name": "ProgressView",
            "bar_style": "success",
            "description": "",
            "description_tooltip": null,
            "layout": "IPY_MODEL_5fe8305f0fec40659e90a9c5d59f3adf",
            "max": 20000000,
            "min": 0,
            "orientation": "horizontal",
            "style": "IPY_MODEL_6280ef9279294f00a95e53c08a10d82b",
            "value": 20000000
          }
        },
        "b813e804f0604280897faf75d1cf9249": {
          "model_module": "@jupyter-widgets/base",
          "model_module_version": "1.2.0",
          "model_name": "LayoutModel",
          "state": {
            "_model_module": "@jupyter-widgets/base",
            "_model_module_version": "1.2.0",
            "_model_name": "LayoutModel",
            "_view_count": null,
            "_view_module": "@jupyter-widgets/base",
            "_view_module_version": "1.2.0",
            "_view_name": "LayoutView",
            "align_content": null,
            "align_items": null,
            "align_self": null,
            "border": null,
            "bottom": null,
            "display": null,
            "flex": null,
            "flex_flow": null,
            "grid_area": null,
            "grid_auto_columns": null,
            "grid_auto_flow": null,
            "grid_auto_rows": null,
            "grid_column": null,
            "grid_gap": null,
            "grid_row": null,
            "grid_template_areas": null,
            "grid_template_columns": null,
            "grid_template_rows": null,
            "height": null,
            "justify_content": null,
            "justify_items": null,
            "left": null,
            "margin": null,
            "max_height": null,
            "max_width": null,
            "min_height": null,
            "min_width": null,
            "object_fit": null,
            "object_position": null,
            "order": null,
            "overflow": null,
            "overflow_x": null,
            "overflow_y": null,
            "padding": null,
            "right": null,
            "top": null,
            "visibility": null,
            "width": null
          }
        },
        "ba364156e05b40d09d1eda94ca050b47": {
          "model_module": "@jupyter-widgets/controls",
          "model_module_version": "1.5.0",
          "model_name": "HTMLModel",
          "state": {
            "_dom_classes": [],
            "_model_module": "@jupyter-widgets/controls",
            "_model_module_version": "1.5.0",
            "_model_name": "HTMLModel",
            "_view_count": null,
            "_view_module": "@jupyter-widgets/controls",
            "_view_module_version": "1.5.0",
            "_view_name": "HTMLView",
            "description": "",
            "description_tooltip": null,
            "layout": "IPY_MODEL_045797250bcd4bf48d884c8e67a8eca8",
            "placeholder": "​",
            "style": "IPY_MODEL_4d323c46002e4a9e947e0df22f9da0e7",
            "value": "Job ID f4b59f4b-f23d-4597-b45c-1cfa9a864280 successfully executed: 100%"
          }
        },
        "d390f62de4684e4aa4b9955409ac25f9": {
          "model_module": "@jupyter-widgets/controls",
          "model_module_version": "1.5.0",
          "model_name": "HTMLModel",
          "state": {
            "_dom_classes": [],
            "_model_module": "@jupyter-widgets/controls",
            "_model_module_version": "1.5.0",
            "_model_name": "HTMLModel",
            "_view_count": null,
            "_view_module": "@jupyter-widgets/controls",
            "_view_module_version": "1.5.0",
            "_view_name": "HTMLView",
            "description": "",
            "description_tooltip": null,
            "layout": "IPY_MODEL_fba272163d61442eab0ae19925a5cb84",
            "placeholder": "​",
            "style": "IPY_MODEL_a0121a0338cb484aa7ab74b577bded5c",
            "value": ""
          }
        },
        "fb82b358751c42398c85ee919c57ae7e": {
          "model_module": "@jupyter-widgets/base",
          "model_module_version": "1.2.0",
          "model_name": "LayoutModel",
          "state": {
            "_model_module": "@jupyter-widgets/base",
            "_model_module_version": "1.2.0",
            "_model_name": "LayoutModel",
            "_view_count": null,
            "_view_module": "@jupyter-widgets/base",
            "_view_module_version": "1.2.0",
            "_view_name": "LayoutView",
            "align_content": null,
            "align_items": null,
            "align_self": null,
            "border": null,
            "bottom": null,
            "display": null,
            "flex": null,
            "flex_flow": null,
            "grid_area": null,
            "grid_auto_columns": null,
            "grid_auto_flow": null,
            "grid_auto_rows": null,
            "grid_column": null,
            "grid_gap": null,
            "grid_row": null,
            "grid_template_areas": null,
            "grid_template_columns": null,
            "grid_template_rows": null,
            "height": null,
            "justify_content": null,
            "justify_items": null,
            "left": null,
            "margin": null,
            "max_height": null,
            "max_width": null,
            "min_height": null,
            "min_width": null,
            "object_fit": null,
            "object_position": null,
            "order": null,
            "overflow": null,
            "overflow_x": null,
            "overflow_y": null,
            "padding": null,
            "right": null,
            "top": null,
            "visibility": null,
            "width": null
          }
        },
        "fba272163d61442eab0ae19925a5cb84": {
          "model_module": "@jupyter-widgets/base",
          "model_module_version": "1.2.0",
          "model_name": "LayoutModel",
          "state": {
            "_model_module": "@jupyter-widgets/base",
            "_model_module_version": "1.2.0",
            "_model_name": "LayoutModel",
            "_view_count": null,
            "_view_module": "@jupyter-widgets/base",
            "_view_module_version": "1.2.0",
            "_view_name": "LayoutView",
            "align_content": null,
            "align_items": null,
            "align_self": null,
            "border": null,
            "bottom": null,
            "display": null,
            "flex": null,
            "flex_flow": null,
            "grid_area": null,
            "grid_auto_columns": null,
            "grid_auto_flow": null,
            "grid_auto_rows": null,
            "grid_column": null,
            "grid_gap": null,
            "grid_row": null,
            "grid_template_areas": null,
            "grid_template_columns": null,
            "grid_template_rows": null,
            "height": null,
            "justify_content": null,
            "justify_items": null,
            "left": null,
            "margin": null,
            "max_height": null,
            "max_width": null,
            "min_height": null,
            "min_width": null,
            "object_fit": null,
            "object_position": null,
            "order": null,
            "overflow": null,
            "overflow_x": null,
            "overflow_y": null,
            "padding": null,
            "right": null,
            "top": null,
            "visibility": null,
            "width": null
          }
        }
      }
    }
  },
  "nbformat": 4,
  "nbformat_minor": 0
}
